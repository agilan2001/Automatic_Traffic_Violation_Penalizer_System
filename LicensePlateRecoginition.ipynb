{
 "cells": [
  {
   "cell_type": "markdown",
   "source": [
    "follow on insta\n",
    "<a href=\"https://www.instagram.com/programming_fever/\">@programmimg_fever</a>"
   ],
   "metadata": {}
  },
  {
   "cell_type": "markdown",
   "source": [
    "# LicensePlateRecognition using OpenCV python"
   ],
   "metadata": {}
  },
  {
   "cell_type": "code",
   "execution_count": 1,
   "source": [
    "import cv2\r\n",
    "import imutils\r\n",
    "import numpy as np\r\n",
    "import pytesseract\r\n",
    "pytesseract.pytesseract.tesseract_cmd = r'C:\\Program Files (x86)\\Tesseract-OCR\\tesseract.exe'\r\n",
    "\r\n",
    "img = cv2.imread(\"D:\\Agilan\\VII Sem\\MiniProj\\Code\\skoda.jpeg\",cv2.IMREAD_COLOR)\r\n",
    "img = cv2.resize(img, (600,400) )\r\n",
    "\r\n",
    "gray = cv2.cvtColor(img, cv2.COLOR_BGR2GRAY) \r\n",
    "gray = cv2.bilateralFilter(gray, 13, 15, 15) \r\n",
    "\r\n",
    "edged = cv2.Canny(gray, 30, 200) \r\n",
    "contours = cv2.findContours(edged.copy(), cv2.RETR_TREE, cv2.CHAIN_APPROX_SIMPLE)\r\n",
    "contours = imutils.grab_contours(contours)\r\n",
    "contours = sorted(contours, key = cv2.contourArea, reverse = True)[:10]\r\n",
    "screenCnt = None\r\n",
    "\r\n",
    "for c in contours:\r\n",
    "    \r\n",
    "    peri = cv2.arcLength(c, True)\r\n",
    "    approx = cv2.approxPolyDP(c, 0.018 * peri, True)\r\n",
    " \r\n",
    "    if len(approx) == 4:\r\n",
    "        screenCnt = approx\r\n",
    "        break\r\n",
    "\r\n",
    "if screenCnt is None:\r\n",
    "    detected = 0\r\n",
    "    print (\"No contour detected\")\r\n",
    "else:\r\n",
    "     detected = 1\r\n",
    "\r\n",
    "if detected == 1:\r\n",
    "    cv2.drawContours(img, [screenCnt], -1, (0, 0, 255), 3)\r\n",
    "\r\n",
    "mask = np.zeros(gray.shape,np.uint8)\r\n",
    "new_image = cv2.drawContours(mask,[screenCnt],0,255,-1,)\r\n",
    "new_image = cv2.bitwise_and(img,img,mask=mask)\r\n",
    "\r\n",
    "(x, y) = np.where(mask == 255)\r\n",
    "(topx, topy) = (np.min(x), np.min(y))\r\n",
    "(bottomx, bottomy) = (np.max(x), np.max(y))\r\n",
    "Cropped = gray[topx:bottomx+1, topy:bottomy+1]\r\n",
    "\r\n",
    "text = pytesseract.image_to_string(Cropped, config='--psm 11')\r\n",
    "print(\"programming_fever's License Plate Recognition\\n\")\r\n",
    "print(\"Detected license plate Number is:\",text)\r\n",
    "img = cv2.resize(img,(500,300))\r\n",
    "Cropped = cv2.resize(Cropped,(400,200))\r\n",
    "cv2.imshow('car',img)\r\n",
    "cv2.imshow('Cropped',Cropped)\r\n",
    "\r\n",
    "cv2.waitKey(0)\r\n",
    "cv2.destroyAllWindows()"
   ],
   "outputs": [
    {
     "output_type": "stream",
     "name": "stdout",
     "text": [
      "programming_fever's License Plate Recognition\n",
      "\n",
      "Detected license plate Number is: TEiITF§E\n",
      "\n",
      "\n"
     ]
    }
   ],
   "metadata": {}
  },
  {
   "cell_type": "markdown",
   "source": [
    "you can find code description @medium publication\n",
    "<a href=\"https://medium.com/programming-fever\">@programmimg_fever</a>"
   ],
   "metadata": {}
  },
  {
   "cell_type": "code",
   "execution_count": null,
   "source": [],
   "outputs": [],
   "metadata": {}
  }
 ],
 "metadata": {
  "kernelspec": {
   "name": "python3",
   "display_name": "Python 3.9.1 64-bit"
  },
  "language_info": {
   "codemirror_mode": {
    "name": "ipython",
    "version": 3
   },
   "file_extension": ".py",
   "mimetype": "text/x-python",
   "name": "python",
   "nbconvert_exporter": "python",
   "pygments_lexer": "ipython3",
   "version": "3.9.1"
  },
  "interpreter": {
   "hash": "cad5e9029cb9bc88acf5be7ff2b57e6555f0baeb794a292f384935cfc6ccb594"
  }
 },
 "nbformat": 4,
 "nbformat_minor": 4
}